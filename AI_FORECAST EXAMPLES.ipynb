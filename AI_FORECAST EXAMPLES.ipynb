{
 "cells": [
  {
   "cell_type": "markdown",
   "metadata": {
    "application/vnd.databricks.v1+cell": {
     "cellMetadata": {},
     "inputWidgets": {},
     "nuid": "36fc1613-7e1a-4ef7-bdf2-9120c795fc62",
     "showTitle": false,
     "title": ""
    }
   },
   "source": [
    "# AI_FORECAST DBSQL Function"
   ]
  },
  {
   "cell_type": "markdown",
   "metadata": {
    "application/vnd.databricks.v1+cell": {
     "cellMetadata": {},
     "inputWidgets": {},
     "nuid": "3839a8dc-c09f-4653-9e9a-c4b21e66bfd2",
     "showTitle": false,
     "title": ""
    }
   },
   "source": [
    "AI_FORECAST is a table-valued function designed to extrapolate time series data into the future. In its most general form, AI_FORECAST accepts __grouped, multivariate, mixed-granularity data,__ and forecasts that data up to some horizon in the future.\n",
    "\n",
    "\n",
    "AI_FORECAST is an all-in-one function for doing out-of-sample predictions on a large number of time series simultaneously. AI_FORECAST is useful for\n",
    "\n",
    "- On-the-fly applications where training and persisting models is not required (e.g. dashboards, investigations)\n",
    "- Scenarios where model persistence is complicated or cumbersome (e.g. generating forecasts for multiple grouping set rollups over the same dataset, or if some dimensions have a few months of data & others have years of data)\n",
    "- Forecasting “at scale” in the sense that many independent models are trained and evaluated simultaneously.\n",
    "\n",
    "### Prerequisites \n",
    "Standard compute clusters or SQL warehouses running DBR 15.1+. The function is not yet available on serverless.\n",
    "\n",
    "### Setup\n",
    "AI_FORECAST can be enabled in standard compute environments (i.e. not SQL warehouses) at a session level via the Spark configuration.\n",
    "\n",
    "`SET spark.databricks.sql.functions.aiForecast.enabled = TRUE`\n",
    "\n",
    "### API\n",
    "\n",
    "```\n",
    "SELECT ... FROM AI_FORECAST(\n",
    "  observed TABLE,\n",
    "  horizon DATE | TIMESTAMP | STRING,\n",
    "  time_col STRING,\n",
    "  value_col STRING | ARRAY<STRING>,\n",
    "  group_col STRING | ARRAY<STRING> | NULL DEFAULT NULL,\n",
    "  prediction_interval_width DOUBLE DEFAULT 0.95,\n",
    "  frequency STRING DEFAULT 'auto',\n",
    "  seed INTEGER | NULL DEFAULT NULL,\n",
    "  parameters STRING DEFAULT '{}' -- * New in DBR 15.3 *\n",
    ")\n",
    "\n",
    "```\n"
   ]
  },
  {
   "cell_type": "markdown",
   "metadata": {
    "application/vnd.databricks.v1+cell": {
     "cellMetadata": {},
     "inputWidgets": {},
     "nuid": "8a73bf87-349f-445b-9974-f73e3f0991d3",
     "showTitle": false,
     "title": ""
    }
   },
   "source": [
    "# Examples"
   ]
  },
  {
   "cell_type": "code",
   "execution_count": 0,
   "metadata": {
    "application/vnd.databricks.v1+cell": {
     "cellMetadata": {
      "byteLimit": 2048000,
      "rowLimit": 10000
     },
     "inputWidgets": {},
     "nuid": "76969563-89ee-4d4e-9c74-966867c97c12",
     "showTitle": false,
     "title": ""
    }
   },
   "outputs": [],
   "source": [
    "SET spark.databricks.sql.functions.aiForecast.enabled = TRUE"
   ]
  },
  {
   "cell_type": "markdown",
   "metadata": {
    "application/vnd.databricks.v1+cell": {
     "cellMetadata": {},
     "inputWidgets": {},
     "nuid": "bfdd5e9f-eff8-46e8-b784-96dc168b55cf",
     "showTitle": false,
     "title": ""
    }
   },
   "source": [
    "### Forecast until a Specified Date."
   ]
  },
  {
   "cell_type": "code",
   "execution_count": 0,
   "metadata": {
    "application/vnd.databricks.v1+cell": {
     "cellMetadata": {
      "byteLimit": 2048000,
      "rowLimit": 10000
     },
     "inputWidgets": {},
     "nuid": "298fe823-c1d3-4fa1-b2a6-adcbfa8a6caa",
     "showTitle": false,
     "title": ""
    }
   },
   "outputs": [],
   "source": [
    "SELECT * FROM samples.nyctaxi.trips order by tpep_pickup_datetime desc"
   ]
  },
  {
   "cell_type": "markdown",
   "metadata": {
    "application/vnd.databricks.v1+cell": {
     "cellMetadata": {},
     "inputWidgets": {},
     "nuid": "252fd7a4-363d-40de-96ce-9f13fe236121",
     "showTitle": false,
     "title": ""
    }
   },
   "source": [
    "##### Let's say we wanted to forecast revenue (sum of fair_amount) per day."
   ]
  },
  {
   "cell_type": "code",
   "execution_count": 0,
   "metadata": {
    "application/vnd.databricks.v1+cell": {
     "cellMetadata": {
      "byteLimit": 2048000,
      "rowLimit": 10000
     },
     "inputWidgets": {},
     "nuid": "20738ecf-16fa-4013-a446-dec2fcbb0470",
     "showTitle": false,
     "title": ""
    }
   },
   "outputs": [
    {
     "output_type": "display_data",
     "data": {
      "text/plain": [
       "Databricks visualization. Run in Databricks to view."
      ]
     },
     "metadata": {
      "application/vnd.databricks.v1.subcommand+json": {
       "baseErrorDetails": null,
       "bindings": {},
       "collapsed": false,
       "command": "%sql WITH q AS (WITH\naggregated AS (\n  SELECT\n    DATE(tpep_pickup_datetime) AS ds,\n    SUM(fare_amount) AS revenue\n  FROM\n    samples.nyctaxi.trips\n  GROUP BY\n    1\n)\nSELECT * FROM AI_FORECAST(\n  TABLE(aggregated),\n  horizon => '2016-03-31',\n  time_col => 'ds',\n  value_col => 'revenue'\n)) SELECT `ds`,SUM(`revenue_forecast`) `column_dce797794`,SUM(`revenue_upper`) `column_dce797797`,SUM(`revenue_lower`) `column_dce7977910` FROM q GROUP BY `ds`",
       "commandTitle": "Bar Chart",
       "commandType": "auto",
       "commandVersion": 0,
       "commentThread": [],
       "commentsVisible": false,
       "contentSha256Hex": null,
       "customPlotOptions": {
        "redashChart": [
         {
          "key": "type",
          "value": "CHART"
         },
         {
          "key": "options",
          "value": {
           "alignYAxesAtZero": true,
           "coefficient": 1,
           "columnConfigurationMap": {
            "x": {
             "column": "ds",
             "id": "column_dce797791"
            },
            "y": [
             {
              "column": "revenue_forecast",
              "id": "column_dce797794",
              "transform": "SUM"
             },
             {
              "column": "revenue_upper",
              "id": "column_dce797797",
              "transform": "SUM"
             },
             {
              "column": "revenue_lower",
              "id": "column_dce7977910",
              "transform": "SUM"
             }
            ]
           },
           "dateTimeFormat": "DD/MM/YYYY HH:mm",
           "direction": {
            "type": "counterclockwise"
           },
           "error_y": {
            "type": "data",
            "visible": true
           },
           "globalSeriesType": "combo",
           "isAggregationOn": true,
           "legend": {
            "traceorder": "normal"
           },
           "missingValuesAsZero": true,
           "numberFormat": "0,0.[00000]",
           "percentFormat": "0[.]00%",
           "series": {
            "error_y": {
             "type": "data",
             "visible": true
            },
            "stacking": null
           },
           "seriesOptions": {
            "column_dce7977910": {
             "type": "line",
             "yAxis": 0
            },
            "column_dce797794": {
             "type": "column",
             "yAxis": 0
            },
            "column_dce797797": {
             "type": "line",
             "yAxis": 0
            }
           },
           "showDataLabels": false,
           "sizemode": "diameter",
           "sortX": true,
           "sortY": true,
           "swappedAxes": false,
           "textFormat": "",
           "useAggregationsUi": true,
           "valuesOptions": {},
           "version": 2,
           "xAxis": {
            "labels": {
             "enabled": true
            },
            "type": "-"
           },
           "yAxis": [
            {
             "type": "-"
            },
            {
             "opposite": true,
             "type": "-"
            }
           ]
          }
         }
        ]
       },
       "datasetPreviewNameToCmdIdMap": {},
       "diffDeletes": [],
       "diffInserts": [],
       "displayType": "redashChart",
       "error": null,
       "errorDetails": null,
       "errorSummary": null,
       "errorTraceType": null,
       "finishTime": 0,
       "globalVars": {},
       "guid": "",
       "height": "auto",
       "hideCommandCode": false,
       "hideCommandResult": false,
       "iPythonMetadata": null,
       "inputWidgets": {},
       "isLockedInExamMode": false,
       "latestUser": "a user",
       "latestUserId": null,
       "listResultMetadata": null,
       "metadata": {},
       "nuid": "b90b52d9-4756-4376-97d4-81bb355cd4ee",
       "origId": 0,
       "parentHierarchy": [],
       "pivotAggregation": null,
       "pivotColumns": null,
       "position": 5.0,
       "resultDbfsErrorMessage": null,
       "resultDbfsStatus": "INLINED_IN_TREE",
       "results": null,
       "showCommandTitle": false,
       "startTime": 0,
       "state": "input",
       "streamStates": {},
       "subcommandOptions": {
        "queryPlan": {
         "groups": [
          {
           "column": "ds",
           "type": "column"
          }
         ],
         "selects": [
          {
           "column": "ds",
           "type": "column"
          },
          {
           "alias": "column_dce797794",
           "args": [
            {
             "column": "revenue_forecast",
             "type": "column"
            }
           ],
           "function": "SUM",
           "type": "function"
          },
          {
           "alias": "column_dce797797",
           "args": [
            {
             "column": "revenue_upper",
             "type": "column"
            }
           ],
           "function": "SUM",
           "type": "function"
          },
          {
           "alias": "column_dce7977910",
           "args": [
            {
             "column": "revenue_lower",
             "type": "column"
            }
           ],
           "function": "SUM",
           "type": "function"
          }
         ]
        }
       },
       "submitTime": 0,
       "subtype": "tableResultSubCmd.visualization",
       "tableResultIndex": 0,
       "useConsistentColors": false,
       "version": "CommandV1",
       "width": "auto",
       "workflows": null,
       "xColumns": null,
       "yColumns": null
      }
     },
     "output_type": "display_data"
    }
   ],
   "source": [
    "WITH\n",
    "aggregated AS (\n",
    "  SELECT\n",
    "    DATE(tpep_pickup_datetime) AS ds,\n",
    "    SUM(fare_amount) AS revenue\n",
    "  FROM\n",
    "    samples.nyctaxi.trips\n",
    "  GROUP BY\n",
    "    1\n",
    ")\n",
    "SELECT * FROM AI_FORECAST(\n",
    "  TABLE(aggregated),\n",
    "  horizon => '2016-03-31',\n",
    "  time_col => 'ds',\n",
    "  value_col => 'revenue'\n",
    ")\n"
   ]
  },
  {
   "cell_type": "markdown",
   "metadata": {
    "application/vnd.databricks.v1+cell": {
     "cellMetadata": {},
     "inputWidgets": {},
     "nuid": "ea0eb1e8-68e6-4119-af98-9fc3b8e79521",
     "showTitle": false,
     "title": ""
    }
   },
   "source": [
    "##### Let's say we wanted to forecast number of trips a day."
   ]
  },
  {
   "cell_type": "code",
   "execution_count": 0,
   "metadata": {
    "application/vnd.databricks.v1+cell": {
     "cellMetadata": {
      "byteLimit": 2048000,
      "rowLimit": 10000
     },
     "inputWidgets": {},
     "nuid": "99268641-ed1f-4fa5-91a3-a1937965c6b2",
     "showTitle": false,
     "title": ""
    }
   },
   "outputs": [
    {
     "output_type": "display_data",
     "data": {
      "text/plain": [
       "Databricks visualization. Run in Databricks to view."
      ]
     },
     "metadata": {
      "application/vnd.databricks.v1.subcommand+json": {
       "baseErrorDetails": null,
       "bindings": {},
       "collapsed": false,
       "command": "%sql WITH q AS (WITH\naggregated AS (\n  SELECT\n    DATE(tpep_pickup_datetime) AS ds,\n    COUNT(*) AS n_trips\n  FROM\n    samples.nyctaxi.trips\n  GROUP BY\n    1\n)\nSELECT * FROM AI_FORECAST(\n  TABLE(aggregated),\n  horizon => '2016-03-31',\n  time_col => 'ds',\n  value_col => 'n_trips'\n)) SELECT `ds`,SUM(`n_trips_forecast`) `column_f4896c474` FROM q GROUP BY `ds`",
       "commandTitle": "Visualization 1",
       "commandType": "auto",
       "commandVersion": 0,
       "commentThread": [],
       "commentsVisible": false,
       "contentSha256Hex": null,
       "customPlotOptions": {
        "redashChart": [
         {
          "key": "type",
          "value": "CHART"
         },
         {
          "key": "options",
          "value": {
           "alignYAxesAtZero": true,
           "coefficient": 1,
           "columnConfigurationMap": {
            "x": {
             "column": "ds",
             "id": "column_f4896c471"
            },
            "y": [
             {
              "column": "n_trips_forecast",
              "id": "column_f4896c474",
              "transform": "SUM"
             }
            ]
           },
           "dateTimeFormat": "DD/MM/YYYY HH:mm",
           "direction": {
            "type": "counterclockwise"
           },
           "error_y": {
            "type": "data",
            "visible": true
           },
           "globalSeriesType": "line",
           "isAggregationOn": true,
           "legend": {
            "traceorder": "normal"
           },
           "missingValuesAsZero": true,
           "numberFormat": "0,0.[00000]",
           "percentFormat": "0[.]00%",
           "series": {
            "error_y": {
             "type": "data",
             "visible": true
            },
            "stacking": null
           },
           "seriesOptions": {
            "column_f4896c474": {
             "type": "line",
             "yAxis": 0
            }
           },
           "showDataLabels": false,
           "sizemode": "diameter",
           "sortX": true,
           "sortY": true,
           "swappedAxes": false,
           "textFormat": "",
           "useAggregationsUi": true,
           "valuesOptions": {},
           "version": 2,
           "xAxis": {
            "labels": {
             "enabled": true
            },
            "type": "-"
           },
           "yAxis": [
            {
             "type": "-"
            },
            {
             "opposite": true,
             "type": "-"
            }
           ]
          }
         }
        ]
       },
       "datasetPreviewNameToCmdIdMap": {},
       "diffDeletes": [],
       "diffInserts": [],
       "displayType": "redashChart",
       "error": null,
       "errorDetails": null,
       "errorSummary": null,
       "errorTraceType": null,
       "finishTime": 0,
       "globalVars": {},
       "guid": "",
       "height": "auto",
       "hideCommandCode": false,
       "hideCommandResult": false,
       "iPythonMetadata": null,
       "inputWidgets": {},
       "isLockedInExamMode": false,
       "latestUser": "a user",
       "latestUserId": null,
       "listResultMetadata": null,
       "metadata": {},
       "nuid": "19d8ad3c-e033-4b83-8cb9-2ee8d1fce404",
       "origId": 0,
       "parentHierarchy": [],
       "pivotAggregation": null,
       "pivotColumns": null,
       "position": 5.75,
       "resultDbfsErrorMessage": null,
       "resultDbfsStatus": "INLINED_IN_TREE",
       "results": null,
       "showCommandTitle": false,
       "startTime": 0,
       "state": "input",
       "streamStates": {},
       "subcommandOptions": {
        "queryPlan": {
         "groups": [
          {
           "column": "ds",
           "type": "column"
          }
         ],
         "selects": [
          {
           "column": "ds",
           "type": "column"
          },
          {
           "alias": "column_f4896c474",
           "args": [
            {
             "column": "n_trips_forecast",
             "type": "column"
            }
           ],
           "function": "SUM",
           "type": "function"
          }
         ]
        }
       },
       "submitTime": 0,
       "subtype": "tableResultSubCmd.visualization",
       "tableResultIndex": 0,
       "useConsistentColors": false,
       "version": "CommandV1",
       "width": "auto",
       "workflows": null,
       "xColumns": null,
       "yColumns": null
      }
     },
     "output_type": "display_data"
    }
   ],
   "source": [
    "WITH\n",
    "aggregated AS (\n",
    "  SELECT\n",
    "    DATE(tpep_pickup_datetime) AS ds,\n",
    "    COUNT(*) AS n_trips\n",
    "  FROM\n",
    "    samples.nyctaxi.trips\n",
    "  GROUP BY\n",
    "    1\n",
    ")\n",
    "SELECT * FROM AI_FORECAST(\n",
    "  TABLE(aggregated),\n",
    "  horizon => '2016-03-31',\n",
    "  time_col => 'ds',\n",
    "  value_col => 'n_trips'\n",
    ")\n"
   ]
  },
  {
   "cell_type": "markdown",
   "metadata": {
    "application/vnd.databricks.v1+cell": {
     "cellMetadata": {},
     "inputWidgets": {},
     "nuid": "38030748-bd75-47de-b207-8ed57c607b7e",
     "showTitle": false,
     "title": ""
    }
   },
   "source": [
    "### A slightly more complex example.\n",
    "\n",
    "It is very common for tables to not materialize 0s or empty entries. If the values of the missing entries can be inferred (e.g. 0, 100%, etc.) then these values should be coalesced prior to calling the forecast function. If the values are truly missing or unknown, then they can be left empty.\n",
    "\n",
    "For very sparse data (e.g. >50% missing entries), it is best practice to provide a frequency value explicitly. Two entries 35 days apart will be inferred as a time series with granularity 35D, rather than a daily series with 34 missing entries.\n"
   ]
  },
  {
   "cell_type": "markdown",
   "metadata": {
    "application/vnd.databricks.v1+cell": {
     "cellMetadata": {},
     "inputWidgets": {},
     "nuid": "447b4b6e-0129-4b3c-afa9-9f52d220d7b4",
     "showTitle": false,
     "title": ""
    }
   },
   "source": [
    "Here's an example of missing dates in the `nyctaxi.trips` table."
   ]
  },
  {
   "cell_type": "code",
   "execution_count": 0,
   "metadata": {
    "application/vnd.databricks.v1+cell": {
     "cellMetadata": {
      "byteLimit": 2048000,
      "rowLimit": 10000
     },
     "inputWidgets": {},
     "nuid": "7e0abac3-a262-4a25-8afc-f8ec8eab9e7c",
     "showTitle": false,
     "title": ""
    }
   },
   "outputs": [],
   "source": [
    "SELECT\n",
    "    DATE(tpep_pickup_datetime) AS ds,\n",
    "    dropoff_zip,\n",
    "    SUM(fare_amount) AS revenue,\n",
    "    COUNT(*) AS n_trips\n",
    "  FROM\n",
    "    samples.nyctaxi.trips\n",
    "  WHERE dropoff_zip = 7114\n",
    "  GROUP BY\n",
    "    1, 2\n",
    "  ORDER BY ds \n"
   ]
  },
  {
   "cell_type": "markdown",
   "metadata": {
    "application/vnd.databricks.v1+cell": {
     "cellMetadata": {},
     "inputWidgets": {},
     "nuid": "22b957a0-8e95-4444-9cf0-44d4a1241e6c",
     "showTitle": false,
     "title": ""
    }
   },
   "source": [
    "##### Let's say we wanted to forecast revenue AND number of trips for each dropoff zip code."
   ]
  },
  {
   "cell_type": "code",
   "execution_count": 0,
   "metadata": {
    "application/vnd.databricks.v1+cell": {
     "cellMetadata": {
      "byteLimit": 2048000,
      "rowLimit": 10000
     },
     "inputWidgets": {},
     "nuid": "85859135-e19a-4822-8683-b2f1a96b2d22",
     "showTitle": false,
     "title": ""
    }
   },
   "outputs": [],
   "source": [
    "-- Generate the aggregated table from the nyctaxi.trips\n",
    "WITH\n",
    "aggregated AS (\n",
    "  SELECT\n",
    "    DATE(tpep_pickup_datetime) AS ds,\n",
    "    dropoff_zip,\n",
    "    SUM(fare_amount) AS revenue,\n",
    "    COUNT(*) AS n_trips\n",
    "  FROM\n",
    "    samples.nyctaxi.trips\n",
    "  GROUP BY\n",
    "    1, 2\n",
    "),\n",
    "-- Generate the full series of missing dates for each zip code\n",
    "spine AS (\n",
    "  SELECT all_dates.ds, all_zipcodes.dropoff_zip\n",
    "  FROM (SELECT DISTINCT ds FROM aggregated) all_dates\n",
    "  CROSS JOIN (SELECT DISTINCT dropoff_zip FROM aggregated) all_zipcodes\n",
    ")\n",
    "-- Perform forecast on the spine and aggregated table\n",
    "SELECT * FROM AI_FORECAST(\n",
    "-- Input table fills in zero for dates that were originally empty\n",
    "  TABLE(\n",
    "    SELECT\n",
    "      spine.*,\n",
    "      COALESCE(aggregated.revenue, 0) AS revenue,\n",
    "      COALESCE(aggregated.n_trips, 0) AS n_trips\n",
    "    FROM spine LEFT JOIN aggregated USING (ds, dropoff_zip)\n",
    "  ),\n",
    "  horizon => '2016-03-31',\n",
    "  time_col => 'ds',\n",
    "  value_col => ARRAY('revenue', 'n_trips'),\n",
    "  group_col => 'dropoff_zip',\n",
    "  prediction_interval_width => 0.9,\n",
    "  parameters => '{\"global_floor\": 0}'\n",
    ")\n",
    "order by dropoff_zip,ds \n"
   ]
  },
  {
   "cell_type": "markdown",
   "metadata": {
    "application/vnd.databricks.v1+cell": {
     "cellMetadata": {},
     "inputWidgets": {},
     "nuid": "933c9272-4f49-4fe3-ba88-3d2cbc231cee",
     "showTitle": false,
     "title": ""
    }
   },
   "source": [
    "###### To help better visualize what the `spine` table looks like:"
   ]
  },
  {
   "cell_type": "code",
   "execution_count": 0,
   "metadata": {
    "application/vnd.databricks.v1+cell": {
     "cellMetadata": {
      "byteLimit": 2048000,
      "rowLimit": 10000
     },
     "inputWidgets": {},
     "nuid": "95f8510e-ac66-4958-b02f-ce1be21b18bc",
     "showTitle": false,
     "title": ""
    }
   },
   "outputs": [],
   "source": [
    "WITH\n",
    "aggregated AS (\n",
    "  SELECT\n",
    "    DATE(tpep_pickup_datetime) AS ds,\n",
    "    dropoff_zip,\n",
    "    SUM(fare_amount) AS revenue,\n",
    "    COUNT(*) AS n_trips\n",
    "  FROM\n",
    "    samples.nyctaxi.trips\n",
    "  GROUP BY\n",
    "    1, 2\n",
    "),\n",
    "-- Generate the aggregated table from the nyctaxi.trips\n",
    "spine AS (\n",
    "  SELECT all_dates.ds, all_zipcodes.dropoff_zip\n",
    "  FROM (SELECT DISTINCT ds FROM aggregated) all_dates\n",
    "  CROSS JOIN (SELECT DISTINCT dropoff_zip FROM aggregated) all_zipcodes\n",
    ")SELECT * FROM spine where dropoff_zip = 7114\n",
    "order by ds asc"
   ]
  },
  {
   "cell_type": "markdown",
   "metadata": {
    "application/vnd.databricks.v1+cell": {
     "cellMetadata": {},
     "inputWidgets": {},
     "nuid": "a2003d3c-2bd4-4d0a-8553-64420ff0d77c",
     "showTitle": false,
     "title": ""
    }
   },
   "source": [
    "###### To help better visualize what the input table looks like:"
   ]
  },
  {
   "cell_type": "code",
   "execution_count": 0,
   "metadata": {
    "application/vnd.databricks.v1+cell": {
     "cellMetadata": {
      "byteLimit": 2048000,
      "rowLimit": 10000
     },
     "inputWidgets": {},
     "nuid": "86cf82f8-b1d1-4918-830b-068fc2f7ae77",
     "showTitle": false,
     "title": ""
    }
   },
   "outputs": [],
   "source": [
    "-- Generate the aggregated table from the nyctaxi.trips\n",
    "WITH\n",
    "aggregated AS (\n",
    "  SELECT\n",
    "    DATE(tpep_pickup_datetime) AS ds,\n",
    "    dropoff_zip,\n",
    "    SUM(fare_amount) AS revenue,\n",
    "    COUNT(*) AS n_trips\n",
    "  FROM\n",
    "    samples.nyctaxi.trips\n",
    "  GROUP BY\n",
    "    1, 2\n",
    "),\n",
    "-- Generate the full series of missing dates for each zip code\n",
    "spine AS (\n",
    "  SELECT all_dates.ds, all_zipcodes.dropoff_zip\n",
    "  FROM (SELECT DISTINCT ds FROM aggregated) all_dates\n",
    "  CROSS JOIN (SELECT DISTINCT dropoff_zip FROM aggregated) all_zipcodes\n",
    ")\n",
    "-- Perform forecast on the spine and aggregated table\n",
    "SELECT\n",
    "  spine.*,\n",
    "  COALESCE(aggregated.revenue, 0) AS revenue,\n",
    "  COALESCE(aggregated.n_trips, 0) AS n_trips\n",
    "FROM spine LEFT JOIN aggregated USING (ds, dropoff_zip)\n",
    "where dropoff_zip = 7114\n",
    "order by ds asc\n"
   ]
  },
  {
   "cell_type": "markdown",
   "metadata": {
    "application/vnd.databricks.v1+cell": {
     "cellMetadata": {},
     "inputWidgets": {},
     "nuid": "39488c7f-f5c0-48e1-9bb0-09bcdd1d126a",
     "showTitle": false,
     "title": ""
    }
   },
   "source": [
    "### Daily + Hourly Forecasting\n",
    "AI_FORECAST can be used to generate forecasts at multiple granularities spanning the same window of time.\n"
   ]
  },
  {
   "cell_type": "code",
   "execution_count": 0,
   "metadata": {
    "application/vnd.databricks.v1+cell": {
     "cellMetadata": {
      "byteLimit": 2048000,
      "rowLimit": 10000
     },
     "inputWidgets": {},
     "nuid": "6f4a3f4c-60b3-4d2a-afbf-6e2d106092d7",
     "showTitle": false,
     "title": ""
    }
   },
   "outputs": [
    {
     "output_type": "display_data",
     "data": {
      "text/plain": [
       "Databricks visualization. Run in Databricks to view."
      ]
     },
     "metadata": {
      "application/vnd.databricks.v1.subcommand+json": {
       "baseErrorDetails": null,
       "bindings": {},
       "collapsed": false,
       "command": "%sql WITH q AS (SELECT * FROM AI_FORECAST(\n\n  TABLE(\n    SELECT\n      DATE_TRUNC('DAY', tpep_pickup_datetime) AS ts,\n      ANY_VALUE('DAY') AS granularity,\n      SUM(fare_amount) AS revenue\n    FROM\n      samples.nyctaxi.trips\n    GROUP BY\n      1\n    \n    UNION ALL\n\n    SELECT\n      DATE_TRUNC('HOUR', tpep_pickup_datetime) AS ts,\n      ANY_VALUE('HOUR') AS granularity,\n      SUM(fare_amount) AS revenue\n    FROM\n      samples.nyctaxi.trips\n    GROUP BY\n      1\n  ),\n  horizon => '2016-03-31',\n  time_col => 'ts',\n  value_col => 'revenue',\n  group_col => 'granularity'\n)) SELECT `ts`,SUM(`revenue_forecast`) `column_dce7977923`,`granularity` FROM q GROUP BY `granularity`,`ts`",
       "commandTitle": "Visualization 1",
       "commandType": "auto",
       "commandVersion": 0,
       "commentThread": [],
       "commentsVisible": false,
       "contentSha256Hex": null,
       "customPlotOptions": {
        "redashChart": [
         {
          "key": "type",
          "value": "CHART"
         },
         {
          "key": "options",
          "value": {
           "alignYAxesAtZero": true,
           "coefficient": 1,
           "columnConfigurationMap": {
            "series": {
             "column": "granularity",
             "id": "column_dce7977932"
            },
            "x": {
             "column": "ts",
             "id": "column_dce7977918"
            },
            "y": [
             {
              "column": "revenue_forecast",
              "id": "column_dce7977923",
              "transform": "SUM"
             }
            ]
           },
           "dateTimeFormat": "DD/MM/YYYY HH:mm",
           "direction": {
            "type": "counterclockwise"
           },
           "error_y": {
            "type": "data",
            "visible": true
           },
           "globalSeriesType": "column",
           "isAggregationOn": true,
           "legend": {
            "traceorder": "normal"
           },
           "missingValuesAsZero": true,
           "numberFormat": "0,0.[00000]",
           "percentFormat": "0[.]00%",
           "series": {
            "error_y": {
             "type": "data",
             "visible": true
            },
            "stacking": ""
           },
           "seriesOptions": {
            "HOUR": {
             "yAxis": 0
            },
            "column_dce7977923": {
             "type": "column"
            }
           },
           "showDataLabels": false,
           "sizemode": "diameter",
           "sortX": true,
           "sortY": true,
           "swappedAxes": false,
           "textFormat": "",
           "useAggregationsUi": true,
           "valuesOptions": {},
           "version": 2,
           "xAxis": {
            "labels": {
             "enabled": true
            },
            "type": "-"
           },
           "yAxis": [
            {
             "type": "linear"
            },
            {
             "opposite": true,
             "type": "-"
            }
           ]
          }
         }
        ]
       },
       "datasetPreviewNameToCmdIdMap": {},
       "diffDeletes": [],
       "diffInserts": [],
       "displayType": "redashChart",
       "error": null,
       "errorDetails": null,
       "errorSummary": null,
       "errorTraceType": null,
       "finishTime": 0,
       "globalVars": {},
       "guid": "",
       "height": "auto",
       "hideCommandCode": false,
       "hideCommandResult": false,
       "iPythonMetadata": null,
       "inputWidgets": {},
       "isLockedInExamMode": false,
       "latestUser": "a user",
       "latestUserId": null,
       "listResultMetadata": null,
       "metadata": {},
       "nuid": "9a9f1da2-83da-4a04-a0de-fe22e081401c",
       "origId": 0,
       "parentHierarchy": [],
       "pivotAggregation": null,
       "pivotColumns": null,
       "position": 9.0,
       "resultDbfsErrorMessage": null,
       "resultDbfsStatus": "INLINED_IN_TREE",
       "results": null,
       "showCommandTitle": false,
       "startTime": 0,
       "state": "input",
       "streamStates": {},
       "subcommandOptions": {
        "queryPlan": {
         "groups": [
          {
           "column": "ts",
           "type": "column"
          },
          {
           "column": "granularity",
           "type": "column"
          }
         ],
         "selects": [
          {
           "column": "ts",
           "type": "column"
          },
          {
           "alias": "column_dce7977923",
           "args": [
            {
             "column": "revenue_forecast",
             "type": "column"
            }
           ],
           "function": "SUM",
           "type": "function"
          },
          {
           "column": "granularity",
           "type": "column"
          }
         ]
        }
       },
       "submitTime": 0,
       "subtype": "tableResultSubCmd.visualization",
       "tableResultIndex": 0,
       "useConsistentColors": false,
       "version": "CommandV1",
       "width": "auto",
       "workflows": null,
       "xColumns": null,
       "yColumns": null
      }
     },
     "output_type": "display_data"
    }
   ],
   "source": [
    "SELECT * FROM AI_FORECAST(\n",
    "-- Daily aggragtions of revenue\n",
    "  TABLE(\n",
    "    SELECT\n",
    "      DATE_TRUNC('DAY', tpep_pickup_datetime) AS ts,\n",
    "      ANY_VALUE('DAY') AS granularity,\n",
    "      SUM(fare_amount) AS revenue\n",
    "    FROM\n",
    "      samples.nyctaxi.trips\n",
    "    GROUP BY\n",
    "      1\n",
    "    \n",
    "    UNION ALL\n",
    "-- Hourly aggragtions of revenue\n",
    "    SELECT\n",
    "      DATE_TRUNC('HOUR', tpep_pickup_datetime) AS ts,\n",
    "      ANY_VALUE('HOUR') AS granularity,\n",
    "      SUM(fare_amount) AS revenue\n",
    "    FROM\n",
    "      samples.nyctaxi.trips\n",
    "    GROUP BY\n",
    "      1\n",
    "  ),\n",
    "  horizon => '2016-03-31',\n",
    "  time_col => 'ts',\n",
    "  value_col => 'revenue',\n",
    "  group_col => 'granularity'\n",
    ")\n"
   ]
  },
  {
   "cell_type": "markdown",
   "metadata": {
    "application/vnd.databricks.v1+cell": {
     "cellMetadata": {},
     "inputWidgets": {},
     "nuid": "132e16f1-2a51-4417-a529-30c5e8137f5a",
     "showTitle": false,
     "title": ""
    }
   },
   "source": [
    "### Investigations\n",
    "AI_FORECAST can be used to perform drill-down investigations. Join forecasting results with the original table to compute residuals. Pair this functionality with grouping set rollups to quickly isolate unexpected changes.\n",
    "\n",
    "In the sample data below we have introduce an anomaly for all CA/Rural UIDs on 2023-01-31.\n"
   ]
  },
  {
   "cell_type": "code",
   "execution_count": 0,
   "metadata": {
    "application/vnd.databricks.v1+cell": {
     "cellMetadata": {
      "byteLimit": 2048000,
      "rowLimit": 10000
     },
     "inputWidgets": {},
     "nuid": "ce3bd04f-cad8-47a9-ae66-881db4895907",
     "showTitle": false,
     "title": ""
    },
    "jupyter": {
     "source_hidden": true
    }
   },
   "outputs": [],
   "source": [
    "CREATE OR REPLACE TEMPORARY VIEW\n",
    "hierarchical_data_with_an_anomalous_date\n",
    "AS\n",
    "WITH\n",
    "-- Create the dimensions for the dataset\n",
    "dimensions AS (\n",
    "  SELECT\n",
    "    country, population, uid, 10 * RAND() AS intercept, RAND() AS slope\n",
    "  LATERAL VIEW\n",
    "    EXPLODE(ARRAY('US', 'CA', 'UK', 'IN')) t1 AS country\n",
    "  LATERAL VIEW\n",
    "    EXPLODE(ARRAY('Urban', 'Rural', 'Suburban')) t2 AS population\n",
    "  LATERAL VIEW\n",
    "    EXPLODE(SEQUENCE(0, 10)) t3 AS uid\n",
    "),\n",
    "-- Create the timestamps for the dataset\n",
    "dim_times AS (\n",
    "  SELECT dimensions.*, ts, DATEDIFF(HOUR, '2023-01-01', ts) AS x\n",
    "  FROM dimensions\n",
    "  LATERAL VIEW\n",
    "    EXPLODE(SEQUENCE(\n",
    "      TIMESTAMP('2023-01-01'),\n",
    "      TIMESTAMP('2023-02-01'),\n",
    "      INTERVAL 1 HOUR\n",
    "    )) t AS ts\n",
    ")\n",
    "-- Create the value column\n",
    "SELECT\n",
    "  dim_times.*,\n",
    "  (intercept + (slope * x) + RANDN())\n",
    "  * IF(\n",
    "      -- Introduce an anomaly for all CA/Rural UIDs on 2023-01-31\n",
    "      DATE(ts) = '2023-01-31'\n",
    "      AND country = 'CA'\n",
    "      AND population = 'Rural',\n",
    "      0.75,\n",
    "      1.0\n",
    "  ) AS y\n",
    "FROM\n",
    "  dim_times;\n",
    "SELECT country,population,uid, ts, y FROM hierarchical_data_with_an_anomalous_date;\n"
   ]
  },
  {
   "cell_type": "markdown",
   "metadata": {
    "application/vnd.databricks.v1+cell": {
     "cellMetadata": {},
     "inputWidgets": {},
     "nuid": "90a3c1db-c1c6-42a9-8d64-29b42e290fe2",
     "showTitle": false,
     "title": ""
    }
   },
   "source": [
    "##### Let's see if we can detect anomalies in the data on `2023-01-31` using AI_FORECAST()."
   ]
  },
  {
   "cell_type": "code",
   "execution_count": 0,
   "metadata": {
    "application/vnd.databricks.v1+cell": {
     "cellMetadata": {
      "byteLimit": 2048000,
      "rowLimit": 10000
     },
     "inputWidgets": {},
     "nuid": "01da1710-9d50-44ca-9d49-f928cfffc7fa",
     "showTitle": false,
     "title": ""
    }
   },
   "outputs": [],
   "source": [
    "WITH\n",
    "-- Calcuate rollup values for each dimension\n",
    "rollups AS (\n",
    "  SELECT country, population, uid, ts, SUM(y) AS y\n",
    "  FROM hierarchical_data_with_an_anomalous_date\n",
    "  GROUP BY GROUPING SETS(\n",
    "    (country, population, uid, ts),\n",
    "    (country, population, ts),\n",
    "    (country, ts)\n",
    "  )\n",
    "),\n",
    "-- Get observations for the target investigation date: 2023-01-31\n",
    "obs AS (SELECT * FROM rollups WHERE DATE(ts) = '2023-01-31'),\n",
    "-- Calculate forcast for 2023-01-31 using historical data.\n",
    "fcst AS (\n",
    "  SELECT * FROM AI_FORECAST(\n",
    "    TABLE(SELECT * FROM rollups WHERE ts < '2023-01-31'),\n",
    "    horizon => '2023-02-01',\n",
    "    time_col => 'ts',\n",
    "    value_col => 'y',\n",
    "    group_col => ARRAY('country', 'population', 'uid')\n",
    ")\n",
    ")\n",
    "-- Calculate which groupings have the highest std deviation from the predicted value.\n",
    "SELECT\n",
    "  obs.country,\n",
    "  IF(obs.population IS NULL, '[All]', obs.population) AS population,\n",
    "  IF(obs.uid IS NULL, '[All]', CAST(obs.uid AS STRING)) AS uid,\n",
    "  AVG(ABS(obs.y - fcst.y_forecast)) AS mean_abs_deviation\n",
    "FROM\n",
    "  obs\n",
    "JOIN\n",
    "  fcst\n",
    "ON\n",
    "  fcst.ts = obs.ts\n",
    "  AND fcst.country <=> obs.country\n",
    "  AND fcst.population <=> obs.population\n",
    "  AND fcst.uid <=> obs.uid\n",
    "GROUP BY\n",
    "  1, 2, 3\n",
    "ORDER BY\n",
    "  4 DESC\n",
    "LIMIT\n",
    "  15\n"
   ]
  }
 ],
 "metadata": {
  "application/vnd.databricks.v1+notebook": {
   "dashboards": [],
   "environmentMetadata": null,
   "language": "sql",
   "notebookMetadata": {
    "pythonIndentUnit": 2
   },
   "notebookName": "AI_FORECAST EXAMPLES",
   "widgets": {}
  }
 },
 "nbformat": 4,
 "nbformat_minor": 0
}
